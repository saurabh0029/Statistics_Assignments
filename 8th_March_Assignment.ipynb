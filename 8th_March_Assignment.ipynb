{
 "cells": [
  {
   "cell_type": "markdown",
   "id": "105155b1-0faf-401f-a532-f36ae0ecc1b1",
   "metadata": {},
   "source": [
    "                                                8th March Assignment"
   ]
  },
  {
   "cell_type": "markdown",
   "id": "963b502c-2984-4114-8010-4a9d0a0d3392",
   "metadata": {},
   "source": [
    "Q1.Ans"
   ]
  },
  {
   "cell_type": "code",
   "execution_count": null,
   "id": "61316444-73a5-47b3-b53e-565458ea18a1",
   "metadata": {},
   "outputs": [],
   "source": [
    "#What is the Probability density function?\n",
    "\n",
    "\n",
    "A function that defines the relationship between a random variable and its probability, such that you can find the\n",
    "probability of the variable using the function, is called a Probability Density Function (PDF) in statistics.\n"
   ]
  },
  {
   "cell_type": "markdown",
   "id": "793f239e-7b61-4695-92bf-fced3cc3149c",
   "metadata": {},
   "source": [
    "Q2.Ans"
   ]
  },
  {
   "cell_type": "code",
   "execution_count": null,
   "id": "cef57f93-04b8-40af-9390-bae60883681e",
   "metadata": {},
   "outputs": [],
   "source": [
    "#What are the types of Probability distribution?\n",
    "\n",
    "Types of Probability distribution:\n",
    "    \n",
    "    \n",
    "    Uniform Distribution:\n",
    "        \n",
    "        The uniform distribution assigns equal probability to all values within a specified range. It is often used when \n",
    "        all outcomes are equally likely.\n",
    "        \n",
    "\n",
    "    Normal Distribution (Gaussian Distribution):\n",
    "        \n",
    "        The normal distribution is characterized by a symmetric bell-shaped curve. It is widely used due to the central\n",
    "        limit theorem, which states that the sum or average of a large number of independent and identically distributed\n",
    "        random variables will have an approximately normal distribution.\n",
    "        \n",
    "        \n",
    "    Poisson Distribution:\n",
    "        \n",
    "        The Poisson distribution models the number of events occurring in a fixed interval of time or space when the \n",
    "        events occur with a known average rate and independently of the time since the last event. It is often used \n",
    "        to model rare events.\n",
    "        \n",
    "    Binomial Distribution:\n",
    "        \n",
    "        The binomial distribution models the number of successes in a fixed number of independent Bernoulli trials, \n",
    "        where each trial has only two possible outcomes: success or failure. It is commonly used in situations with \n",
    "        binary outcomes.\n",
    "        \n",
    "    Bernoulli distribution:\n",
    "        \n",
    "        The Bernoulli distribution is a discrete probability distribution that models a random variable with two \n",
    "        possible outcomes, typically referred to as success and failure. \n",
    "        \n",
    "        \n",
    "    Log Normal distribution :\n",
    "        \n",
    "        The log-normal distribution is a continuous probability distribution that models random variables whose \n",
    "        logarithm follows a normal distribution. It is often used to model quantities that are strictly positive\n",
    "        and have a skewed distribution, such as stock prices, incomes, or sizes of natural phenomena.\n",
    "        \n",
    "        "
   ]
  },
  {
   "cell_type": "markdown",
   "id": "d0b5bec5-7fd4-43d4-a68e-119d8492b9c6",
   "metadata": {},
   "source": [
    "Q3.Ans"
   ]
  },
  {
   "cell_type": "code",
   "execution_count": null,
   "id": "16c96a8b-c46b-4d99-aabc-5500b1f23a9e",
   "metadata": {},
   "outputs": [],
   "source": [
    "Write a Python function to calculate the probability density function of a normal distribution with\n",
    "given mean and standard deviation at a given point.\n"
   ]
  },
  {
   "cell_type": "code",
   "execution_count": 7,
   "id": "5789c93e-21ba-4db3-9e39-81ec2d1376ea",
   "metadata": {},
   "outputs": [
    {
     "name": "stdin",
     "output_type": "stream",
     "text": [
      "Enter the mean:- 180\n",
      "Enter the standard deviation:- 10\n",
      "Enter the Point:- 2.5\n"
     ]
    },
    {
     "name": "stdout",
     "output_type": "stream",
     "text": [
      "1.5344666837685016e-70\n"
     ]
    }
   ],
   "source": [
    "from scipy.stats import norm\n",
    "\n",
    "\n",
    "def cal_pdf_of_normal_distribution(mean,std,point):\n",
    "    \n",
    "    return norm.pdf(point,mean,std)\n",
    "\n",
    "\n",
    "mean=float(input(\"Enter the mean:-\"))\n",
    "\n",
    "std=float(input(\"Enter the standard deviation:-\"))\n",
    "\n",
    "point=float(input(\"Enter the Point:-\"))\n",
    "          \n",
    "result=cal_pdf_of_normal_distribution(mean,std,point)       \n",
    "          \n",
    "print(result)       "
   ]
  },
  {
   "cell_type": "code",
   "execution_count": null,
   "id": "515cfedf-91d9-4e5f-ac97-6a058aabe9d5",
   "metadata": {},
   "outputs": [],
   "source": []
  },
  {
   "cell_type": "markdown",
   "id": "58ba86f3-4266-4a4b-b1ea-b99f31a1d6c5",
   "metadata": {},
   "source": [
    "Q4.Ans"
   ]
  },
  {
   "cell_type": "code",
   "execution_count": null,
   "id": "0a646488-3f18-4e87-a472-37eaf45f2e1d",
   "metadata": {},
   "outputs": [],
   "source": [
    "What are the properties of Binomial distribution? Give two examples of events where binomial\n",
    "distribution can be applied.\n"
   ]
  },
  {
   "cell_type": "code",
   "execution_count": null,
   "id": "dc5677fb-423b-4a35-a7b4-bf91ad7be7e3",
   "metadata": {},
   "outputs": [],
   "source": [
    "The properties of Binomial distribution are :\n",
    "    \n",
    "    i. Each trial is independent that mean the outcome of one trial does not affect the outcome of any other trial.\n",
    "    \n",
    "    ii. The total number of trials is fixed.\n",
    "    \n",
    "    iii. Each trial is binary ,i.e has only two possible outcomes Success and Failure.\n",
    "    \n",
    "    iv. The probability of success is the same for all the trials\n",
    "    \n",
    "    \n",
    "Example:\n",
    "    \n",
    "   a) Tossing a coin 10 times:\n",
    "    \n",
    "        Consider a fair coin toss, where the outcome of each toss is either heads (success) or tails (failure). \n",
    "  \n",
    "   b) Rolling a dice 20 times and probability of getting 6.\n",
    "    \n",
    "    "
   ]
  },
  {
   "cell_type": "markdown",
   "id": "c91d7c74-9ab9-4e1f-8a37-a1690fcd7e52",
   "metadata": {},
   "source": [
    "Q5.Ans"
   ]
  },
  {
   "cell_type": "code",
   "execution_count": 7,
   "id": "ec54e147-bc55-4e7d-9ea4-46386c0761d2",
   "metadata": {},
   "outputs": [
    {
     "data": {
      "image/png": "[encoded data removed]",
      "text/plain": [
       "<Figure size 640x480 with 1 Axes>"
      ]
     },
     "metadata": {},
     "output_type": "display_data"
    }
   ],
   "source": [
    "import numpy as np\n",
    "import matplotlib.pyplot as plt\n",
    "\n",
    "\n",
    "n = 1000  # Number of trials\n",
    "p = 0.4  # Probability of success\n",
    "\n",
    "# Generate the random sample\n",
    "random_sample = np.random.binomial(n, p, size=1000)\n",
    "\n",
    "\n",
    "# Plot the histogram\n",
    "\n",
    "plt.hist(random_sample, bins='auto')\n",
    "plt.xlabel('Number of Successes')\n",
    "plt.ylabel('Frequency')\n",
    "plt.title('Histogram of Binomial Distribution')\n",
    "plt.show()\n"
   ]
  },
  {
   "cell_type": "code",
   "execution_count": null,
   "id": "d649cc94-854e-4ad2-af8c-f93ede4df06d",
   "metadata": {},
   "outputs": [],
   "source": []
  },
  {
   "cell_type": "markdown",
   "id": "a0cbbdf7-eed3-47a6-bbee-e83b26c4e386",
   "metadata": {},
   "source": [
    "Q6.Ans"
   ]
  },
  {
   "cell_type": "code",
   "execution_count": 3,
   "id": "d340ae78-fdfa-47f0-b5bd-ace12b04d0cb",
   "metadata": {},
   "outputs": [
    {
     "name": "stdin",
     "output_type": "stream",
     "text": [
      "Enter the mean :- 5\n",
      "Enter the Point:- 3\n"
     ]
    },
    {
     "name": "stdout",
     "output_type": "stream",
     "text": [
      "CDF= 0.2650259152973616\n"
     ]
    }
   ],
   "source": [
    "from scipy.stats import poisson\n",
    "\n",
    "def poisson_cdf(mean, point):\n",
    "    cdf = poisson.cdf(point, mean)\n",
    "    return cdf\n",
    "\n",
    "\n",
    "mean = float(input(\"Enter the mean :-\"))\n",
    "point = float(input(\"Enter the Point:-\"))\n",
    "cdf_value = poisson_cdf(mean, point)\n",
    "print(\"CDF=\", cdf_value)\n"
   ]
  },
  {
   "cell_type": "markdown",
   "id": "8ebed510-88db-449d-a89c-e4c8076e1351",
   "metadata": {},
   "source": [
    "Q7.Ans"
   ]
  },
  {
   "cell_type": "code",
   "execution_count": null,
   "id": "aa3ca336-ebb2-4463-85f6-abb1278b392a",
   "metadata": {},
   "outputs": [],
   "source": [
    "The difference between Binomial distribution and Poisson distribution are:\n",
    "    \n",
    "    i)  The binomial distribution describes the number of successes in a fixed number of independent Bernoulli trials,\n",
    "        where each trial has the same probability of success whereas The Poisson distribution models the number of events \n",
    "        that occur within a fixed interval of time or space, given the average rate of occurrence.\n",
    "        \n",
    "    ii) The binomial distribution requires two parameters: the number of trials (n) and the probability of success (p) in\n",
    "        each trial whereas The Poisson distribution requires one parameter: the average rate of occurrence (λ) of the \n",
    "        events.\n",
    "        \n",
    "    iii) The binomial distribution is used for discrete events with two possible outcomes (success or failure) in each \n",
    "         trial. The trials are independent and have the same probability of success whereas The Poisson distribution is\n",
    "         used for discrete events that occur randomly in continuous time or space, with the average rate of occurrence \n",
    "         known or estimated.\n",
    "        \n",
    "    iv) The binomial distribution is suitable for scenarios involving a fixed number of trials, such as counting the\n",
    "         number of successful coin flips out of a specific number of tosses or the number of defective items in a batch\n",
    "        whereas The Poisson distribution is commonly applied to situations where the events occur randomly and \n",
    "        independently over time or space, such as modeling the number of phone calls received by a call center in a given \n",
    "        time interval or the number of car accidents on a particular road in a day.\n",
    "        \n",
    "    v)  The binomial distribution assumes a fixed number of trials, independence between trials, and a constant probability\n",
    "        of success throughout the trials whereas The Poisson distribution assumes that the events occur independently and \n",
    "        at a constant average rate within the given interval.\n",
    "        \n",
    "    vi) The binomial distribution is typically symmetric or skewed, depending on the values of the parameters. It can be \n",
    "        approximated by a normal distribution when the number of trials is large and the success probability is not \n",
    "        extremely close to 0 or 1 whereas The Poisson distribution is a discrete distribution that represents the \n",
    "        probability of various numbers of events occurring. It is often skewed to the right and has a longer tail due \n",
    "        to its nature of modeling rare events.\n",
    "        \n",
    "        "
   ]
  },
  {
   "cell_type": "markdown",
   "id": "f3b7b253-7199-4d15-afcd-3f4843effdd1",
   "metadata": {},
   "source": [
    "Q8.Ans"
   ]
  },
  {
   "cell_type": "code",
   "execution_count": 1,
   "id": "d1c51093-f047-4c21-983e-3c2e780b6142",
   "metadata": {},
   "outputs": [
    {
     "name": "stdout",
     "output_type": "stream",
     "text": [
      "Sample Mean: 4.88\n",
      "Sample Variance: 5.089599999999999\n"
     ]
    }
   ],
   "source": [
    "import numpy as np #importing numpy\n",
    "\n",
    "mean = 5\n",
    "\n",
    "# Generate the random sample\n",
    "random_sample = np.random.poisson(mean, size=1000)\n",
    "\n",
    "# Calculate the sample mean and variance\n",
    "sample_mean = np.mean(random_sample)\n",
    "sample_variance = np.var(random_sample)\n",
    "\n",
    "print(\"Sample Mean:\", sample_mean)\n",
    "print(\"Sample Variance:\", sample_variance)\n"
   ]
  },
  {
   "cell_type": "code",
   "execution_count": null,
   "id": "0602f3eb-9eac-4d72-8421-d903e8665cb3",
   "metadata": {},
   "outputs": [],
   "source": []
  },
  {
   "cell_type": "markdown",
   "id": "87196d8e-828a-4cf9-a25a-8eca069c7f74",
   "metadata": {},
   "source": [
    "Q9.Ans"
   ]
  },
  {
   "cell_type": "code",
   "execution_count": null,
   "id": "6b72f34e-3b95-46e0-81ab-6c6d670ccdc7",
   "metadata": {},
   "outputs": [],
   "source": [
    "Binomial Distribution:\n",
    "    \n",
    "In the binomial distribution, the mean is given by the product of the number of trials (n) and the probability of \n",
    "success in each trial (p). Mathematically, neu = n * p.\n",
    "\n",
    "The variance  in the binomial distribution is calculated as the product of the number of trials (n), the probability \n",
    "of success (p), and the probability of failure (q = 1 - p). Mathematically, neu(square) = n * p * q.\n",
    "\n",
    "Poisson Distribution:\n",
    "    \n",
    "In the Poisson distribution, the mean  represents the average rate of occurrence of events within a fixed interval. \n",
    "The mean and variance in the Poisson distribution are equal and both are given by lamda.\n"
   ]
  },
  {
   "cell_type": "markdown",
   "id": "9bac4525-26a7-4bbf-95fb-53116f5adc26",
   "metadata": {},
   "source": [
    "Q10.Ans"
   ]
  },
  {
   "cell_type": "code",
   "execution_count": null,
   "id": "07f42765-20fb-4db6-ad16-2aee240ed1c7",
   "metadata": {},
   "outputs": [],
   "source": [
    "In normal distribution with respect to mean position, the least frequent data appear towards the tail."
   ]
  }
 ],
 "metadata": {
  "kernelspec": {
   "display_name": "Python 3 (ipykernel)",
   "language": "python",
   "name": "python3"
  },
  "language_info": {
   "codemirror_mode": {
    "name": "ipython",
    "version": 3
   },
   "file_extension": ".py",
   "mimetype": "text/x-python",
   "name": "python",
   "nbconvert_exporter": "python",
   "pygments_lexer": "ipython3",
   "version": "3.10.8"
  }
 },
 "nbformat": 4,
 "nbformat_minor": 5
}
