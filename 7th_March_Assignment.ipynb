{
 "cells": [
  {
   "cell_type": "markdown",
   "id": "628fe5a8-fdad-467c-a96d-0838688fafca",
   "metadata": {},
   "source": [
    "                                                7th March Assignment"
   ]
  },
  {
   "cell_type": "markdown",
   "id": "140c974d-d542-447d-a40d-c001ab1bc98e",
   "metadata": {},
   "source": [
    "Q1.Ans"
   ]
  },
  {
   "cell_type": "code",
   "execution_count": null,
   "id": "bdd1f46a-37b1-42b3-9904-b47f7653a1a6",
   "metadata": {},
   "outputs": [],
   "source": [
    "Mean,median and mode are the three measures of central tendency."
   ]
  },
  {
   "cell_type": "markdown",
   "id": "4b68d39a-cf62-40a4-b4f9-e23ffa685ab1",
   "metadata": {},
   "source": [
    "Q2.Ans"
   ]
  },
  {
   "cell_type": "code",
   "execution_count": null,
   "id": "ee9c573d-23e2-460f-935f-cf5970803c34",
   "metadata": {},
   "outputs": [],
   "source": [
    "#What is the difference between the mean , median and mode?\n",
    "\n",
    "Actually, the mean provides an average value whereas the median represents the middle value, and the mode indicates the \n",
    "most frequent value.\n",
    "\n",
    "\n",
    "#How are they used to measure the central tendency of a dataset?\n",
    "\n",
    "Mean:\n",
    "    \n",
    "    The mean is commonly used to describe the typical or average value in a dataset.\n",
    "    \n",
    "Median:\n",
    "    \n",
    "    The median is used when the dataset has outliers or is skewed. It is a robust measure of central tendency, less\n",
    "    affected by extreme values compared to the mean. It provides a measure of the central value that is more \n",
    "    representative of the \"typical\" value when the dataset is not symmetrically distributed.\n",
    "    \n",
    "Mode:\n",
    "    \n",
    "    The mode is useful for describing the most common values or category in a dataset. It is often used for categorical\n",
    "    or discrete data, such as survey responses, where identifying the most frequent response is important.\n",
    "    \n",
    "    "
   ]
  },
  {
   "cell_type": "markdown",
   "id": "9322cabf-b9cb-423c-8e84-399cde09adc7",
   "metadata": {},
   "source": [
    "Q3.Ans"
   ]
  },
  {
   "cell_type": "code",
   "execution_count": 2,
   "id": "f93cacea-9bcf-4309-8b20-c15ee06d1a73",
   "metadata": {},
   "outputs": [],
   "source": [
    "import pandas as pd\n",
    "\n",
    "height=[178,177,176,177,178.2,178,175,179,180,175,178.9,176.2,177,172.5,178,176.5]\n",
    "\n",
    "df=pd.DataFrame({'Height':height})"
   ]
  },
  {
   "cell_type": "code",
   "execution_count": 5,
   "id": "fccbd4b4-f1ee-436b-9b93-b26648d1b39a",
   "metadata": {},
   "outputs": [
    {
     "data": {
      "text/plain": [
       "Height    177.01875\n",
       "dtype: float64"
      ]
     },
     "execution_count": 5,
     "metadata": {},
     "output_type": "execute_result"
    }
   ],
   "source": [
    "#Mean\n",
    "\n",
    "df.mean()"
   ]
  },
  {
   "cell_type": "code",
   "execution_count": 7,
   "id": "be950914-3b8d-40a3-9ef3-b9d7395ea3da",
   "metadata": {},
   "outputs": [
    {
     "data": {
      "text/plain": [
       "Height    177.0\n",
       "dtype: float64"
      ]
     },
     "execution_count": 7,
     "metadata": {},
     "output_type": "execute_result"
    }
   ],
   "source": [
    "#Median\n",
    "\n",
    "df.median()"
   ]
  },
  {
   "cell_type": "code",
   "execution_count": 8,
   "id": "490c7520-f471-410f-9438-1a7d4eb75301",
   "metadata": {},
   "outputs": [
    {
     "data": {
      "text/html": [
       "<div>\n",
       "<style scoped>\n",
       "    .dataframe tbody tr th:only-of-type {\n",
       "        vertical-align: middle;\n",
       "    }\n",
       "\n",
       "    .dataframe tbody tr th {\n",
       "        vertical-align: top;\n",
       "    }\n",
       "\n",
       "    .dataframe thead th {\n",
       "        text-align: right;\n",
       "    }\n",
       "</style>\n",
       "<table border=\"1\" class=\"dataframe\">\n",
       "  <thead>\n",
       "    <tr style=\"text-align: right;\">\n",
       "      <th></th>\n",
       "      <th>Height</th>\n",
       "    </tr>\n",
       "  </thead>\n",
       "  <tbody>\n",
       "    <tr>\n",
       "      <th>0</th>\n",
       "      <td>177.0</td>\n",
       "    </tr>\n",
       "    <tr>\n",
       "      <th>1</th>\n",
       "      <td>178.0</td>\n",
       "    </tr>\n",
       "  </tbody>\n",
       "</table>\n",
       "</div>"
      ],
      "text/plain": [
       "   Height\n",
       "0   177.0\n",
       "1   178.0"
      ]
     },
     "execution_count": 8,
     "metadata": {},
     "output_type": "execute_result"
    }
   ],
   "source": [
    "#Mode\n",
    "\n",
    "df.mode()"
   ]
  },
  {
   "cell_type": "markdown",
   "id": "736148e1-c2f2-408d-858b-ed4bc23bb351",
   "metadata": {},
   "source": [
    "Q4.Ans"
   ]
  },
  {
   "cell_type": "code",
   "execution_count": 1,
   "id": "20b676a6-d4a8-4a78-82c5-1e6337c0aeef",
   "metadata": {},
   "outputs": [],
   "source": [
    "import numpy as np\n",
    "\n",
    "data=[178,177,176,177,178.2,178,175,179,180,175,178.9,176.2,177,172.5,178,176.5]"
   ]
  },
  {
   "cell_type": "code",
   "execution_count": 3,
   "id": "84d7f5ae-232d-4098-b321-c73fb976603f",
   "metadata": {},
   "outputs": [
    {
     "data": {
      "text/plain": [
       "1.7885814036548633"
      ]
     },
     "execution_count": 3,
     "metadata": {},
     "output_type": "execute_result"
    }
   ],
   "source": [
    "np.std(data)"
   ]
  },
  {
   "cell_type": "markdown",
   "id": "2299c0d3-4c7e-4362-a291-cdb90becbbb9",
   "metadata": {},
   "source": [
    "Q5.Ans"
   ]
  },
  {
   "cell_type": "code",
   "execution_count": null,
   "id": "0583008c-205e-41c5-9fb2-3922a9199fa4",
   "metadata": {},
   "outputs": [],
   "source": [
    "#How are measures of dispersion such as range, variance, and standard deviation used to describethe spread of a dataset? \n",
    "#Provide an example.\n",
    "\n",
    "Measures of dispersion such as range, variance, and standard deviation, are used to describe the spread or variability of\n",
    "a dataset.They provide information about how the data points are distributed around the measure of central tendency \n",
    "(mean, median and mode) and help assess the degree of variability within the dataset.\n",
    "\n",
    "for example :\n",
    "    \n",
    "    Suppose , we have a dataset representing the weights of members of a particular family.\n",
    "    \n",
    "    weight=[60,70,55,68,80]\n",
    "    \n",
    "    \n",
    "    Range:\n",
    "        \n",
    "        The range is the simplest measure of dispersion, calculated as the difference between the highest and lowest values \n",
    "        in the dataset. ie. 80-55=25 that tell weight vary by 25 kg.\n",
    "        \n",
    "    Variance:\n",
    "        \n",
    "        Variance measures the average squared deviation of each data point from the mean.\n",
    "        \n",
    "        when we calculate the variance of the dataset we will get 74.24 , It provides a measure of the average dispersion of\n",
    "        weights from the mean.\n",
    "        \n",
    "    Standard Deviation:\n",
    "        \n",
    "        The standard deviation is the square root of the variance and provides a measure of the dispersion in the original\n",
    "        units of the dataset.\n",
    "        \n",
    "        when we calculate the standard deviation , we will get 8.61, This means that, on average, the weightsw deviate\n",
    "        from the mean by approximately 8.61 kg(s).\n",
    "        \n",
    "        "
   ]
  },
  {
   "cell_type": "markdown",
   "id": "93d4c0ee-57f7-4482-9ae6-732a1899a76d",
   "metadata": {},
   "source": [
    "Q6.Ans"
   ]
  },
  {
   "cell_type": "code",
   "execution_count": null,
   "id": "6eb5e526-48cd-4dfb-985d-312ae670776a",
   "metadata": {},
   "outputs": [],
   "source": [
    "A Venn diagram is a visual representation of the relationships between different sets or groups of items. It consists of\n",
    "overlapping circles (or other shapes) that represent the sets, and the overlapping regions represent the elements that \n",
    "belong to multiple sets. \n",
    "\n",
    "Venn diagrams can be used to solve problems involving set operations, analyze data, compare and contrast different groups,\n",
    "and identify relationships between sets. They are a useful visual tool to organize and present information in a clear and\n",
    "concise manner.\n"
   ]
  },
  {
   "cell_type": "markdown",
   "id": "7a7d1e72-7ba8-49e2-bffd-3e480f230316",
   "metadata": {},
   "source": [
    "Q7.Ans"
   ]
  },
  {
   "cell_type": "code",
   "execution_count": null,
   "id": "a5cd855c-c66f-4ba0-8b90-426bae591b73",
   "metadata": {},
   "outputs": [],
   "source": [
    "For the two given sets A = (2,3,4,5,6,7) & B = (0,2,6,8,10). Find:\n",
    "\n",
    "(i) A intersection B\n",
    "\n",
    "(ii) A union B\n",
    "\n",
    "\n",
    "i.Ans A intersection B = (2,6)\n",
    "\n",
    "ii.Ans A union B =(2,3,4,5,6,7,0,8,10)\n",
    "\n"
   ]
  },
  {
   "cell_type": "markdown",
   "id": "0b158765-9136-4b1d-a47c-0ceebe09d067",
   "metadata": {},
   "source": [
    "Q8.Ans"
   ]
  },
  {
   "cell_type": "code",
   "execution_count": null,
   "id": "f07807e7-6576-4716-a5ff-16ede93dc0a5",
   "metadata": {},
   "outputs": [],
   "source": [
    "Skewness ia a statistical measure that quantifies the asymmetry or lack of symmetry in a data. It provides information about\n",
    "the shape of the distribution and the relative concentration of data points on each side of the distribution's center.\n",
    "\n",
    "Skewness can be positive , negetive and zero.\n",
    "\n",
    "\n",
    "\n",
    "Positive skewness: \n",
    "    \n",
    "    Also known as right-skewed , it occurs when the tail of the distribution extends more towards the right side. In this\n",
    "    case, the majority of the data points are concentrated on the left side of the distribution, and the tail is longer on\n",
    "    the right side. In this mean>median>mode.\n",
    "    \n",
    "    \n",
    "Negative skewness:\n",
    "    \n",
    "    Also known as  left-skewed, it occurs when the tail of the distribution extends more towards the left side. Here, most\n",
    "    of the data points are concentrated on the right side of the distribution, and the tail is longer on the left side.\n",
    "    In this mean<median<mode.\n",
    "    \n",
    "    \n",
    "Zero skewness:\n",
    "    \n",
    "    In a symmetric distribution, the data points are evenly distributed on both sides of the center, resulting in zero \n",
    "    skewness.In this mean=median=mode.\n",
    "    \n",
    "    \n"
   ]
  },
  {
   "cell_type": "markdown",
   "id": "116d92ac-01e3-4322-a06b-b0b3c2dd022a",
   "metadata": {},
   "source": [
    "Q9.Ans"
   ]
  },
  {
   "cell_type": "code",
   "execution_count": null,
   "id": "dc5ab98a-4ef3-4037-a05b-d47f85effa62",
   "metadata": {},
   "outputs": [],
   "source": [
    "#If a data is right skewed then what will be the position of median with respect to mean?\n",
    "\n",
    "Left hand side with respect to mean.\n",
    "\n"
   ]
  },
  {
   "cell_type": "markdown",
   "id": "52c006fc-ee2d-4ffa-9787-a1d8002a62c8",
   "metadata": {},
   "source": [
    "Q10.Ans"
   ]
  },
  {
   "cell_type": "code",
   "execution_count": null,
   "id": "1c52e83e-312c-435b-92c0-fac475a2ae33",
   "metadata": {},
   "outputs": [],
   "source": [
    "#Explain the difference between covariance and correlation. \n",
    "\n",
    "\n",
    "Difference between covariance and correlation are:\n",
    "    \n",
    "    i.Covariance signifies the direction of the linear relationship between the two variables whereas Correlation \n",
    "      determines the direction as well as the strength of the relationship between two variables.\n",
    "        \n",
    "    ii.Covariance can vary between -ve infinity to +ve infinity whereas Correlation ranges between -1 and +1.\n",
    "    \n",
    "    iii.Covariance is affected by the change in scale whereas Correlation is not influenced by the change in scale.\n",
    "    \n",
    "    iv.Covariance assumes the units from the product of the units of the two variables whereas Correlation is dimensionless\n",
    "       i.e It is a unit free measure of the relationship between variables.\n",
    "        \n",
    "    v.Covariance is zero in case of independent variables whereas Independent variables have a zero correction.\n",
    "    \n",
    "#How are these measures used in statistical analysis?\n",
    "\n",
    "Covariance and correlation are used to understand and quantify the relationship between variables.\n",
    "\n",
    "In Statistical analysis ,\n",
    "\n",
    "Descriptive statistics: \n",
    "    \n",
    "    Covariance and correlation help summarize and describe the relationship between variables in a dataset.\n",
    "\n",
    "Feature selection: \n",
    "    \n",
    "    In machine learning and statistical modeling, correlation is often used to identify the strength and direction of\n",
    "    the relationship between predictors (independent variables) and the target variable (dependent variable). It helps\n",
    "    select the most relevant features for prediction or modeling.\n",
    "\n",
    "Portfolio analysis:\n",
    "    \n",
    "    Covariance and correlation are used in finance to assess the relationship between different assets in a portfolio.\n",
    "    A low correlation between assets can reduce overall risk by diversifying investments.\n",
    "\n",
    "Quality control:\n",
    "    \n",
    "    Covariance and correlation analysis can be used to identify relationships between variables in manufacturing processes.\n",
    "    They help determine if changes in one variable affect another and aid in process improvement.\n",
    "    "
   ]
  },
  {
   "cell_type": "markdown",
   "id": "8df2c115-1af0-42b2-abf3-2cce4018c88b",
   "metadata": {},
   "source": [
    "Q11.Ans"
   ]
  },
  {
   "cell_type": "code",
   "execution_count": null,
   "id": "44959422-03fb-49d4-9b7c-ca46087ce58c",
   "metadata": {},
   "outputs": [],
   "source": [
    "The formula for calculating the sample mean is:\n",
    "    \n",
    "    x(bar) = (x1 + x2 + x3 + ... + xn) / n\n",
    "\n",
    "where x1, x2, x3, ..., xn are the individual values in the dataset, and n is the total number of values in the dataset.\n",
    "\n",
    "\n",
    "For Example:\n",
    "    \n",
    "    Dataset=[10,20,30,40,50]\n",
    "    \n",
    "    x(bar) = (10+20+30+40+50)/5\n",
    "           = 30\n",
    "        \n",
    "    Hence, Sample mean of this dataset is 30.\n",
    "    "
   ]
  },
  {
   "cell_type": "markdown",
   "id": "e9b171f3-b708-42ef-af83-60b51fb60859",
   "metadata": {},
   "source": [
    "Q12.Ans"
   ]
  },
  {
   "cell_type": "code",
   "execution_count": null,
   "id": "48134ce6-f236-4bd0-a3d6-3533001f7146",
   "metadata": {},
   "outputs": [],
   "source": [
    "#For a normal distribution data what is the relationship between its measure of central tendency?\n",
    "\n",
    "\n",
    "The relaionship between of measure of central tendency in a normal distribution data is Mean=Median=Mode.\n"
   ]
  },
  {
   "cell_type": "markdown",
   "id": "61e9ef11-4f98-4e33-b623-125b96a6dbf3",
   "metadata": {},
   "source": [
    "Q13.Ans"
   ]
  },
  {
   "cell_type": "code",
   "execution_count": null,
   "id": "b3ad99dc-14fc-4cd3-885a-d40966e1ee5d",
   "metadata": {},
   "outputs": [],
   "source": [
    "Difference between covariance and correlation are:\n",
    "    \n",
    "    i.Covariance signifies the direction of the linear relationship between the two variables whereas Correlation \n",
    "      determines the direction as well as the strength of the relationship between two variables.\n",
    "        \n",
    "    ii.Covariance can vary between -ve infinity to +ve infinity whereas Correlation ranges between -1 and +1.\n",
    "    \n",
    "    iii.Covariance is affected by the change in scale whereas Correlation is not influenced by the change in scale.\n",
    "    \n",
    "    iv.Covariance assumes the units from the product of the units of the two variables whereas Correlation is dimensionless\n",
    "       i.e It is a unit free measure of the relationship between variables.\n",
    "        \n",
    "    v.Covariance is zero in case of independent variables whereas Independent variables have a zero correction.\n",
    "    "
   ]
  },
  {
   "cell_type": "markdown",
   "id": "d5479703-05ab-4aa2-bb69-6c280716e4d0",
   "metadata": {},
   "source": [
    "Q14.Ans"
   ]
  },
  {
   "cell_type": "code",
   "execution_count": null,
   "id": "3498c626-97eb-4ddf-b061-1b7097297215",
   "metadata": {},
   "outputs": [],
   "source": [
    "Outliers can significantly impact measures of central tendency and dispersion, causing them to be skewed or distorted. \n",
    "\n",
    "For Example:\n",
    "    \n",
    "Let's consider an random dataset:\n",
    "\n",
    "Dataset: 10, 15, 20, 25, 30, 100\n",
    "\n",
    "Mean without the outlier (100), the mean of the dataset would be:\n",
    "    \n",
    "(10 + 15 + 20 + 25 + 30) / 5 = 20\n",
    "\n",
    "However, with the outlier, the mean becomes:\n",
    "    \n",
    "(10 + 15 + 20 + 25 + 30 + 100) / 6 = 33.33\n",
    "\n",
    "The outlier value of 100 pulls the mean towards a higher value, making it less representative of the central tendency of \n",
    "the majority of the data.\n"
   ]
  }
 ],
 "metadata": {
  "kernelspec": {
   "display_name": "Python 3 (ipykernel)",
   "language": "python",
   "name": "python3"
  },
  "language_info": {
   "codemirror_mode": {
    "name": "ipython",
    "version": 3
   },
   "file_extension": ".py",
   "mimetype": "text/x-python",
   "name": "python",
   "nbconvert_exporter": "python",
   "pygments_lexer": "ipython3",
   "version": "3.10.8"
  }
 },
 "nbformat": 4,
 "nbformat_minor": 5
}
