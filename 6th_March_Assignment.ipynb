{
 "cells": [
  {
   "cell_type": "markdown",
   "id": "d3702d86-904c-4920-8730-ee51fd073afb",
   "metadata": {},
   "source": [
    "                                                        6th March Assignment"
   ]
  },
  {
   "cell_type": "markdown",
   "id": "6b84eeaf-12ac-41b4-8fa6-4a70ec901887",
   "metadata": {},
   "source": [
    "Q1.Ans"
   ]
  },
  {
   "cell_type": "code",
   "execution_count": null,
   "id": "9ce3ebf8-8185-4f71-9bd1-028456516609",
   "metadata": {},
   "outputs": [],
   "source": [
    "#What is Statistics?\n",
    "\n",
    "Statistics is a branch of mathematics and a field of study that deals with the collection, analysis, interpretation,\n",
    "presentation, and organization of data. It involves the use of various methods and techniques to gather, summarize, \n",
    "and analyze data in order to make informed decisions, draw  conclusions, and make predictions.\n",
    "\n"
   ]
  },
  {
   "cell_type": "markdown",
   "id": "b9f06d47-6f26-4ad2-9176-c4fd6068bff7",
   "metadata": {},
   "source": [
    "Q2.Ans"
   ]
  },
  {
   "cell_type": "code",
   "execution_count": null,
   "id": "ffdc355e-4bb2-40f0-ab7c-d7dc72c59bb4",
   "metadata": {},
   "outputs": [],
   "source": [
    "Different types of Statistics are:-\n",
    "\n",
    "    1.Descriptive Statistics:- Descriptive statistics involves summarizing and describing data using various measures\n",
    "      and graphical representations.  It aims to provide a clear and concise understanding of the data.\n",
    "        \n",
    "      It is used for smmarizing and presenting data in a meaningful way, making it easier to interpret and communicate \n",
    "      the information.\n",
    "    \n",
    "    \n",
    "    2.Inferential Statistics:- Inferential statistics involves using data from a sample to make inferences or predictions\n",
    "      about a larger population.  It allows us to draw conclusions, test hypotheses, and make generalizations based on the\n",
    "      observed data.\n",
    "        \n",
    "        \n",
    "      It is used to make predictions, draw conclusions, and generalize findings beyond the observed sample, making it a \n",
    "      powerful tool for  decision-making and research purposes.\n",
    "        \n",
    "        "
   ]
  },
  {
   "cell_type": "markdown",
   "id": "ae45230f-c749-46cb-a754-10ffff6f20c5",
   "metadata": {},
   "source": [
    "Q3.Ans"
   ]
  },
  {
   "cell_type": "code",
   "execution_count": null,
   "id": "6c5b2876-243c-4b00-8c4b-2f689bfd0da4",
   "metadata": {},
   "outputs": [],
   "source": [
    "Data are classified into two types the first one is Quantitative Data and the other is Qualitative Data. \n",
    "\n",
    "Quantitative Data are futher divided into two parts:\n",
    "    \n",
    "    i.Descrete Data\n",
    "    ii.Continuous Data\n",
    "    \n",
    "#difference between Descrete and Continuous Data\n",
    "\n",
    "    i.Discrete data are countable and finite and they are whole numbers or integers whereas Continuous data are measurable\n",
    "      and they are in the form  of fractions or decimal\n",
    "        \n",
    "    ii.Discrete data are represented mainly by bar graphs whereas Continuous data are represented in the form of a \n",
    "       histogram\n",
    "    \n",
    "    iii.The values cannot be divided into subdivisions into smaller pieces whereas The values can be divided into \n",
    "         subdivisions into smaller pieces\n",
    "    \n",
    "    iv.Discrete data have spaces between the values whereas Continuous data are in the form of a continuous sequence\n",
    "    \n",
    "    v.Examples of Discrete Data are Total no of bank account , No of days in a week, No. of members in a family whereas \n",
    "      Examples of Continuous are  Sallary , Weight , Height etc.\n",
    "        \n",
    "        \n",
    "Qualitative Data are also divided into two parts:\n",
    "    \n",
    "    i.Nominal Data\n",
    "    ii.Ordinal Data\n",
    "    \n",
    "    \n",
    "#difference between Nominal and Ordinal Data\n",
    "\n",
    "    i.Nominal data can’t be quantified, neither they have any intrinsic ordering whereas Ordinal data gives some kind of\n",
    "      sequential order by  their position on the scale\n",
    "        \n",
    "    ii.Nominal data is qualitative data or categorical data whereas Ordinal data is said to be “in-between” qualitative\n",
    "       data and quantitative data\n",
    "    \n",
    "    iii.They don’t provide any quantitative value, neither can we perform any arithmetical operation whereas They provide\n",
    "        sequence and can assign  numbers to ordinal data but cannot perform the arithmetical operation\n",
    "        \n",
    "    iv.Nominal data cannot be used to compare with one another whereas Ordinal data can help to compare one item with \n",
    "       another by ranking or ordering\n",
    "    \n",
    "    v.Examples of Nominal Data are Eye color, housing style, gender, hair color, religion, marital status, ethnicity, \n",
    "      etc whereas Examples of Ordinal  Data are Economic status, customer satisfaction, education level, letter grades,\n",
    "      etc \n",
    "        \n",
    "        \n"
   ]
  },
  {
   "cell_type": "markdown",
   "id": "1ed3251a-8f89-4491-a998-677cb5914ca9",
   "metadata": {},
   "source": [
    "Q4.Ans"
   ]
  },
  {
   "cell_type": "code",
   "execution_count": null,
   "id": "b04a0019-b096-41f3-b3bb-0ca7bb4267f9",
   "metadata": {},
   "outputs": [],
   "source": [
    "i. Qualitative Data\n",
    "\n",
    "ii. Qualitative Data\n",
    "\n",
    "iii. Quantitative Data\n",
    "\n",
    "iv. Quantitative Data"
   ]
  },
  {
   "cell_type": "markdown",
   "id": "bac85a9c-3c03-4226-8330-8be530b7552d",
   "metadata": {},
   "source": [
    "Q5.Ans"
   ]
  },
  {
   "cell_type": "code",
   "execution_count": null,
   "id": "731e2598-e941-41aa-99b8-87a2953f09e1",
   "metadata": {},
   "outputs": [],
   "source": [
    "\n",
    "Levels of measurement are a way to categorize and describe the different types of data or variables used in statistics \n",
    "and research.  The concept of levels of measurement helps us understand the nature of the data and the type of statistical\n",
    "analysis that can be performed on it.\n",
    "\n",
    "There are 4 levels of measurement:\n",
    "    \n",
    "    i. nominal scale data\n",
    "    ii. ordinal scale data\n",
    "    iii. interval scale data\n",
    "    iv. ratio scale data\n",
    "    \n",
    "    \n",
    "Nominal Scale Data :- \n",
    "\n",
    "    At the nominal level, data is categorized into distinct categories or groups without any inherent order or numerical\n",
    "    value. The values assigned  to different categories are merely labels or names. \n",
    "    \n",
    "    For Example:-\n",
    "        \n",
    "        Gender,Habits,Hair colors,Favorite Food etc\n",
    "        \n",
    "\n",
    "Ordinal Scale Data :-\n",
    "    \n",
    "    At the ordinal level, data can be categorized into distinct groups, just like at the nominal level, but there is an\n",
    "    inherent order or ranking  between the categories. However, the magnitude of the differences between the categories \n",
    "    is not well-defined or consistent.\n",
    "    \n",
    "    For Example:-\n",
    "    \n",
    "        Reviews,Grades\n",
    "        \n",
    "        \n",
    "Interval Scale Data :-\n",
    "\n",
    "    At the interval level, data can be categorized into distinct groups with an inherent order, like at the ordinal level.\n",
    "    However, the interval  level also has a consistent and meaningful measurement of the differences between the\n",
    "    categories. However, there is no meaningful zero point.\n",
    "    \n",
    "    For Example:-\n",
    "    \n",
    "        Temperature variable\n",
    "        \n",
    "        \n",
    "Ratio Scale Data :-\n",
    "\n",
    "    At the ratio level, data can be categorized into distinct groups with an inherent order, just like at the interval\n",
    "    level. Additionally, the ratio  level has a consistent and meaningful measurement of the differences between the \n",
    "    categories, and it also has a true zero point that represents the absence of the variable. \n",
    "    \n",
    "    For Example:=\n",
    "    \n",
    "        Students Marks in a class\n",
    "        \n",
    "        "
   ]
  },
  {
   "cell_type": "markdown",
   "id": "73eeddef-a691-4428-9e73-2556991c50cd",
   "metadata": {},
   "source": [
    "Q6.Ans"
   ]
  },
  {
   "cell_type": "code",
   "execution_count": null,
   "id": "33439c1b-d521-4d5b-8dec-2e90f642f0fd",
   "metadata": {},
   "outputs": [],
   "source": [
    "\n",
    "Understanding the level of measurement is crucial when analyzing data because it determines the type of statistical \n",
    "analyses that can be performed,  the appropriate measures of central tendency and variability, and the conclusions that\n",
    "can be drawn from the data. Different levels of measurement  have distinct properties and limitations, and using the \n",
    "wrong analysis or misinterpreting the data can lead to erroneous conclusions.\n",
    "\n",
    "To illustrate the importance of understanding the level of measurement, let's consider an example:-\n",
    "\n",
    "Suppose a researcher wants to examine the relationship between customer satisfaction and a product's price in an online\n",
    "survey.  The researcher collects data from 100 customers and asks them to rate their satisfaction on a scale from 1 to 5,\n",
    "where 1 represents \"Very Dissatisfied\" and 5 represents \"Very Satisfied.\"\n",
    "\n",
    "In this example, the level of measurement for customer satisfaction is ordinal, as the scale has ordered categories but \n",
    "lacks equal intervals between  them. On the other hand, the level of measurement for the product's price is continuous,\n",
    "as it is measured on a scale with equal intervals.\n",
    "\n",
    "If the researcher fails to understand the level of measurement, they may make the following mistakes:\n",
    "    \n",
    "\n",
    "    i.Misusing statistical analysis: Since customer satisfaction is measured on an ordinal scale, it is not appropriate \n",
    "      to calculate the mean  satisfaction score or perform parametric tests like t-tests or ANOVA, which assume \n",
    "      interval-level data. Instead, non-parametric tests like the Mann-Whitney U test or Kruskal-Wallis test should be\n",
    "      used.\n",
    "\n",
    "    ii.Incorrect interpretation of results: If the researcher mistakenly calculates the mean satisfaction score, it may\n",
    "      lead to a misleading  interpretation of the data. For instance, they may conclude that the average satisfaction is \n",
    "      3.5 (mean) and infer that customers are moderately satisfied. However, this interpretation ignores the ordinal \n",
    "      nature of the data, where the exact distances between categories are not known. A more appropriate interpretation \n",
    "      would be to describe the distribution using medians or percentiles."
   ]
  },
  {
   "cell_type": "markdown",
   "id": "27c20045-d2d7-45f4-892c-902630d41b09",
   "metadata": {},
   "source": [
    "Q7.Ans"
   ]
  },
  {
   "cell_type": "code",
   "execution_count": null,
   "id": "384eb674-60d3-4862-a0f5-b081a9ee5b82",
   "metadata": {},
   "outputs": [],
   "source": [
    "# How nominal data type is different from ordinal data type?\n",
    "\n",
    "Difference between Nominal and Ordinal Data Type\n",
    "\n",
    "    i.Nominal data can’t be quantified, neither they have any intrinsic ordering whereas Ordinal data gives some kind of\n",
    "      sequential order by  their position on the scale\n",
    "        \n",
    "    ii.Nominal data is qualitative data or categorical data whereas Ordinal data is said to be “in-between” qualitative\n",
    "       data and quantitative data\n",
    "    \n",
    "    iii.They don’t provide any quantitative value, neither can we perform any arithmetical operation whereas They provide\n",
    "        sequence and can assign  numbers to ordinal data but cannot perform the arithmetical operation\n",
    "        \n",
    "    iv.Nominal data cannot be used to compare with one another whereas Ordinal data can help to compare one item with \n",
    "       another by ranking or ordering\n",
    "    \n",
    "    v.Examples of Nominal Data are Eye color, housing style, gender, hair color, religion, marital status, ethnicity, etc\n",
    "      whereas Examples of Ordinal  Data are Economic status, customer satisfaction, education level, letter grades, etc \n",
    "        \n",
    "        "
   ]
  },
  {
   "cell_type": "markdown",
   "id": "b93f374a-3abf-4212-8ae7-3487c68202b8",
   "metadata": {},
   "source": [
    "Q8.Ans"
   ]
  },
  {
   "cell_type": "code",
   "execution_count": null,
   "id": "a0bd6640-513f-419c-b1dc-3bd99da5e8a8",
   "metadata": {},
   "outputs": [],
   "source": [
    "# Which type of plot can be used to display data in terms of range?\n",
    "\n",
    "\n",
    "Box Plot can be used to display in terms of range.\n"
   ]
  },
  {
   "cell_type": "markdown",
   "id": "7303388d-0e57-4c86-b928-fcf8b422f7e2",
   "metadata": {},
   "source": [
    "Q9.Ans"
   ]
  },
  {
   "cell_type": "code",
   "execution_count": null,
   "id": "f0a2d03a-f17e-43f5-9311-16708417f30f",
   "metadata": {},
   "outputs": [],
   "source": [
    "Difference between descriptive statistics and inferential statistics\n",
    "\n",
    "\n",
    "    i.Descriptive Statistics gives information about raw data which describes the data in some manner whereas Inferential\n",
    "      Statistics  makes inferences about the population using data drawn from the population.\n",
    "        \n",
    "    ii.Descriptive Statistics helps in organizing, analyzing, and to present data in a meaningful manner whereas \n",
    "       Inferential Statistics allows us to compare data, and make hypotheses and predictions.\n",
    "        \n",
    "    iii.Descriptive Statistics is used to describe a situation whereas Inferential Statistics is used to explain the \n",
    "        chance of occurrence of an event.\n",
    "    \n",
    "    iv.Descriptive Statistics explains already known data and is limited to a sample or population having a small size \n",
    "       whereas Inferential Statistics attempts to reach the conclusion about the population.\n",
    "        \n",
    "    v.Descriptive Statistics can be achieved with the help of charts, graphs, tables, etc  whereas Inferential Statistics\n",
    "      can be achieved by  probability.\n",
    "        \n",
    "        \n",
    "        \n",
    "Example of Descriptive Statistics:\n",
    "    \n",
    "    Let's consider a study that measures the heights of a sample of 100 individuals. Descriptive statistics would involve\n",
    "    calculating measures such  as the mean (average) height, the median (middle) height, the mode (most frequent) height,\n",
    "    and measures of dispersion like the standard deviation or range. These statistics would provide a concise summary of\n",
    "    the heights in the sample, giving us an understanding of the central tendency and  variability of the data.\n",
    "    \n",
    "\n",
    "Example of Inferential Statistics:\n",
    "    \n",
    "    Let's consider a study examining the effect of a new medication on blood pressure. A group of 200 participants is\n",
    "    randomly assigned to either a treatment or control group. After the study, inferential statistics would be used to\n",
    "    analyze the data and determine if the observed difference in  blood pressure between the two groups is statistically\n",
    "    significant. This analysis would involve techniques such as hypothesis testing and  confidence intervals to assess\n",
    "    whether the observed results can be generalized to the larger population.\n",
    "    \n",
    "    "
   ]
  },
  {
   "cell_type": "markdown",
   "id": "8a1cfa25-d030-4876-9eb5-8bd62c75a424",
   "metadata": {},
   "source": [
    "Q10.Ans"
   ]
  },
  {
   "cell_type": "code",
   "execution_count": null,
   "id": "56a23b0f-405b-4beb-9a6e-fa298795d64d",
   "metadata": {},
   "outputs": [],
   "source": [
    "Measures of Central Tendency:\n",
    "    \n",
    "    1.Mean:\n",
    "        \n",
    "        The mean is the arithmetic average of a set of values. It is calculated by summing up all the values in the\n",
    "        dataset and dividing by the total number of values. The mean provides a measure of the central value around \n",
    "        which the data tends to cluster.\n",
    "        \n",
    "        The mean is commonly used to describe the typical or average value in a dataset. It is particularly useful\n",
    "        when the dataset is normally  distributed and doesn't have extreme outliers.\n",
    "        \n",
    "    2.Median:\n",
    "        \n",
    "        The median is the middle value in an ordered dataset. It divides the data into two equal halves, with 50% of \n",
    "        the values lying below it and  50% lying above it. If there is an even number of values, the median is the \n",
    "        average of the two middle values.\n",
    "        \n",
    "        The median is used when the dataset has outliers or is skewed. It is a robust measure of central tendency, \n",
    "        less affected by extreme values compared to the mean. \n",
    "        \n",
    "    3.Mode:\n",
    "        \n",
    "        The mode is the value or values that occur most frequently in a dataset. It represents the peak of the \n",
    "        distribution.\n",
    "        \n",
    "        The mode is useful for describing the most common values or category in a dataset. It is often used for\n",
    "        categorical or discrete data, such as survey responses, where identifying the most frequent response is\n",
    "        important.\n",
    "        \n",
    "        \n",
    "Measures of Variability:\n",
    "    \n",
    "    1.Range:\n",
    "        \n",
    "        The range is the difference between the maximum and minimum values in a dataset. It provides a measure of the \n",
    "        spread or dispersion of the data.\n",
    "        \n",
    "        \n",
    "        The range gives a quick indication of how spread out the data points are. However, it is sensitive to extreme \n",
    "        values and may not provide a  complete understanding of the variability.\n",
    "    \n",
    "    \n",
    "    2.Variance:\n",
    "        \n",
    "        Variance measures the average squared deviation from the mean in a dataset. It quantifies the spread of data\n",
    "        points around the mean.\n",
    "        \n",
    "        Variance provides a precise measure of variability. It is used in various statistical calculations and analyses.\n",
    "        However, it is in squared units, which may make interpretation difficult. Therefore, it is often accompanied by \n",
    "        the standard deviation.\n",
    "        \n",
    "    3.Standard Deviation:\n",
    "        The standard deviation is the square root of the variance. It measures the average distance between each data\n",
    "        point and the mean.  It provides a measure of the spread of data points in the same units as the original data.\n",
    "        \n",
    "        The standard deviation is widely used to describe the variability or dispersion of data. It is particularly \n",
    "        useful when the data follows a bell-shaped normal distribution. It helps identify outliers and compare the \n",
    "        spread of different datasets.\n",
    "        \n",
    "        "
   ]
  }
 ],
 "metadata": {
  "kernelspec": {
   "display_name": "Python 3 (ipykernel)",
   "language": "python",
   "name": "python3"
  },
  "language_info": {
   "codemirror_mode": {
    "name": "ipython",
    "version": 3
   },
   "file_extension": ".py",
   "mimetype": "text/x-python",
   "name": "python",
   "nbconvert_exporter": "python",
   "pygments_lexer": "ipython3",
   "version": "3.10.8"
  }
 },
 "nbformat": 4,
 "nbformat_minor": 5
}
