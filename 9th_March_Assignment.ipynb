{
 "cells": [
  {
   "cell_type": "markdown",
   "id": "3de1527b-6393-47d5-a225-a155ba88a893",
   "metadata": {},
   "source": [
    "                                        9th March Assignment "
   ]
  },
  {
   "cell_type": "markdown",
   "id": "f3d8da7a-b716-48e0-8102-4c101f32e280",
   "metadata": {},
   "source": [
    "Q1: What are the Probability Mass Function (PMF) and Probability Density Function (PDF)? Explain with\n",
    "an example.\n"
   ]
  },
  {
   "cell_type": "markdown",
   "id": "d49c48e7-c4f4-4274-8c6f-bbce4f3dabb2",
   "metadata": {},
   "source": [
    "`Ans:-`"
   ]
  },
  {
   "cell_type": "code",
   "execution_count": null,
   "id": "fdf6337e-01d5-4f94-812d-2051ac2b26a3",
   "metadata": {},
   "outputs": [],
   "source": [
    "#PMF\n",
    "\n",
    "PMF stands for Probability Mass Function. It is a concept used in probability theory and statistics to \n",
    "describe the probability distribution of a discrete random variable.\n",
    "\n",
    "A PMF assigns probabilities to each possible value that a discrete random variable can take. It provides \n",
    "the probability of observing each value in the sample space of the random variable.\n",
    "\n",
    "Example:\n",
    "    \n",
    "Let's consider the roll of a fair six-sided die. The possible outcomes are the numbers 1, 2, 3, 4, 5, and \n",
    "6. The PMF for this scenario would assign a probability to each of these outcomes.\n",
    "\n",
    "Since the die is fair, each outcome has an equal probability of 1/6. Therefore, the PMF for this scenario\n",
    "would be:\n",
    "\n",
    "PMF(1) = 1/6\n",
    "PMF(2) = 1/6\n",
    "PMF(3) = 1/6\n",
    "PMF(4) = 1/6\n",
    "PMF(5) = 1/6\n",
    "PMF(6) = 1/6\n",
    "\n",
    "The PMF assigns a probability of 1/6 to each outcome because each number has an equal chance of appearing\n",
    "when the die is rolled. The sum of the probabilities assigned by the PMF must equal 1.\n",
    "\n",
    "\n",
    "#PDF\n",
    "\n",
    "The PDF is used for continuous random variables, which can take on any value within a range. The PDF gives\n",
    "the probability density at each point along the range of the variable. Unlike the PMF, the PDF does not \n",
    "give the actual probability of a specific outcome but provides the relative likelihood of different \n",
    "outcomes.\n",
    "\n",
    "Example:\n",
    "    \n",
    "Let's consider an example of a continuous random variable, such as the height of adult males in a \n",
    "population. The random variable X represents the height. The PDF for this scenario could be a bell-shaped \n",
    "curve, such as the normal distribution.\n",
    "\n",
    "In this case, the PDF does not provide the probability of obtaining a specific height, but rather the\n",
    "relative likelihood of different heights. The area under the curve between two points on the x-axis\n",
    "represents the probability that the height falls within that range.\n",
    "\n"
   ]
  },
  {
   "cell_type": "markdown",
   "id": "cb921d3f-e540-4ea7-bd1e-cddfc6624c39",
   "metadata": {},
   "source": [
    "Q2: What is Cumulative Density Function (CDF)? Explain with an example. Why CDF is used?\n"
   ]
  },
  {
   "cell_type": "markdown",
   "id": "bc9d7e6f-5c0e-4939-a411-fda56efa69dd",
   "metadata": {},
   "source": [
    "`Ans:-`"
   ]
  },
  {
   "cell_type": "code",
   "execution_count": null,
   "id": "19d8302e-558b-4864-b88a-c10a038deb44",
   "metadata": {},
   "outputs": [],
   "source": [
    "The Cumulative Density Function (CDF) is a concept in statistics and probability theory that describes the cumulative probability of\n",
    "a random variable being less than or equal to a specific value.\n",
    "\n",
    "\n",
    "Example:-\n",
    "\n",
    "Let's say we have a six-sided fair die, and we want to calculate the CDF for the random variable X, which represents the outcome of\n",
    "a single roll of the die. The possible outcomes for the die are {1, 2, 3, 4, 5, 6}, each with an equal probability of 1/6.\n",
    "\n",
    "The CDF table for the random variable X will look like this:\n",
    "\n",
    "x | P(X ≤ x)\n",
    "1 | 1/6\n",
    "2 | 2/6 (1/6 + 1/6)\n",
    "3 | 3/6 (1/6 + 1/6 + 1/6)\n",
    "4 | 4/6 (1/6 + 1/6 + 1/6 + 1/6)\n",
    "5 | 5/6 (1/6 + 1/6 + 1/6 + 1/6 + 1/6)\n",
    "6 | 1 (1/6 + 1/6 + 1/6 + 1/6 + 1/6 + 1/6)\n",
    "\n",
    "Why is CDF used?\n",
    "\n",
    "i)Probability Calculation: \n",
    "    \n",
    "    CDFs provide a simple way to calculate probabilities for random variables. Instead of calculating probabilities for individual\n",
    "    values, you can directly find the probability for a range of values by subtracting the CDF values.\n",
    "\n",
    "ii)Distribution Visualization: \n",
    "    \n",
    "    Plotting the CDF allows you to visualize the entire probability distribution of a random variable. It shows how the probabilities\n",
    "    accumulate as the value of the random variable increases.\n",
    "\n",
    "iii)Quantile Calculation:\n",
    "    \n",
    "    CDFs enable the calculation of quantiles, which are points that divide the probability distribution into equally likely intervals.\n",
    "    For example, the median is the 50th percentile or the point at which the CDF reaches 0.5.\n",
    "\n",
    "iv)Statistical Inference:\n",
    "    \n",
    "    CDFs are used in statistical inference, hypothesis testing, and confidence interval calculations.\n",
    "\n",
    "Overall, CDFs are fundamental tools in probability and statistics that help us understand the behavior of random variables and make\n",
    "various probabilistic computations and inferences.\n",
    "\n",
    "\n"
   ]
  },
  {
   "cell_type": "code",
   "execution_count": null,
   "id": "12dc95e8-f042-45f0-90ae-db5e04c3cdbf",
   "metadata": {},
   "outputs": [],
   "source": []
  },
  {
   "cell_type": "markdown",
   "id": "91ed6276-1590-4e18-a022-9337afbb3a37",
   "metadata": {},
   "source": [
    "Q3: What are some examples of situations where the normal distribution might be used as a model?\n",
    "    Explain how the parameters of the normal distribution relate to the shape of the distribution.\n"
   ]
  },
  {
   "cell_type": "markdown",
   "id": "db18c990-2c42-4295-9b96-2a2b6b781f72",
   "metadata": {},
   "source": [
    "`Ans:-`"
   ]
  },
  {
   "cell_type": "code",
   "execution_count": null,
   "id": "9baa478f-8914-40b7-92aa-3f43609089e8",
   "metadata": {},
   "outputs": [],
   "source": [
    "Here are some examples of situations where the normal distribution might be used as a model:-\n",
    "\n",
    "(i) Height of People: \n",
    "    \n",
    "    The height of a population tends to follow a normal distribution, with most people being close to the average height (mean) and\n",
    "    fewer individuals being much taller or shorter. This is why height charts for specific age groups often have a bell-shaped curve.\n",
    "\n",
    "(ii) Measurement Errors:\n",
    "    \n",
    "    In many scientific experiments and measurements, there are inherent errors and uncertainties. These errors are often modeled \n",
    "    using a normal distribution.\n",
    "\n",
    "(iii) IQ Scores: \n",
    "    \n",
    "    Intelligence Quotient (IQ) scores are often modeled using a normal distribution. The average IQ is typically set to 100, and\n",
    "    the standard deviation is set to 15.\n",
    "\n",
    "(iv) Weight of Products:\n",
    "    \n",
    "    If the weight of manufactured products is subject to random variations, it can often be modeled using a normal distribution.\n",
    "\n",
    "(v) Financial Returns:\n",
    "    \n",
    "    In finance, daily or monthly returns of assets such as stocks are often assumed to follow a normal distribution in certain models,\n",
    "    like the well-known Black-Scholes option pricing model.\n",
    "    \n",
    "    \n",
    "    \n",
    "The shape of the normal distribution is entirely determined by its two parameters:\n",
    "    \n",
    "    The mean  and the standard deviation. These parameters play a crucial role in defining the characteristics of the bell-shaped \n",
    "    curve and how it is positioned and scaled in the data space. \n",
    "    \n",
    "    \n",
    "Here's how the parameters relate to the shape of the distribution:\n",
    "\n",
    "    Mean : \n",
    "        \n",
    "        The mean of the normal distribution determines the central location or the center of the bell-shaped curve. It represents\n",
    "        the average value or the expected value of the random variable being modeled. When the mean is changed, the entire curve \n",
    "        shifts horizontally along the x-axis.\n",
    "\n",
    "        If the mean increases, the curve shifts to the right.\n",
    "        If the mean decreases, the curve shifts to the left.\n",
    "        \n",
    "        \n",
    "        For example, consider two normal distributions with means m1 and m2, where m2 > m1. The distribution with mean m2 will be \n",
    "        shifted to the right of the one with mean m1.\n",
    "        \n",
    "        \n",
    "\n",
    "    Standard Deviation : \n",
    "        \n",
    "        The standard deviation of the normal distribution controls the spread or dispersion of the data points in the distribution.\n",
    "        It determines how much the data is scattered around the mean. A larger standard deviation leads to a wider and flatter curve,\n",
    "        while a smaller standard deviation results in a narrower and taller curve.\n",
    "\n",
    "        A larger standard deviation makes the curve more spread out, covering a wider range of values.\n",
    "        A smaller standard deviation makes the curve more concentrated around the mean, resulting in a narrower peak.\n",
    "\n",
    "        For example, consider two normal distributions with standard deviations n1 and n2, where n2 > n1. The distribution with\n",
    "        standard deviation n2 will be wider and flatter than the one with standard deviation n1.\n",
    "\n",
    "Combining both the mean and the standard deviation, we can visualize how different parameter values affect the shape of the normal \n",
    "distribution:\n",
    "\n",
    "A larger mean  shifts the entire curve to the right, while a smaller mean shifts it to the left.\n",
    "\n",
    "A larger standard deviation  makes the curve wider and flatter, while a smaller standard deviation makes it narrower and taller.\n",
    "\n",
    "Furthermore, the symmetry of the normal distribution ensures that the mean is the same as the median and the mode. \n",
    "\n",
    "In other words, the highest point of the curve is at the mean, and it is perfectly symmetrical around the mean.\n"
   ]
  },
  {
   "cell_type": "code",
   "execution_count": null,
   "id": "953cd873-038a-4de6-98b5-9883c2f7e4fd",
   "metadata": {},
   "outputs": [],
   "source": []
  },
  {
   "cell_type": "markdown",
   "id": "7a1dc165-8d3b-4046-95c3-fcf4d0b5adb0",
   "metadata": {},
   "source": [
    "Q4: Explain the importance of Normal Distribution. Give a few real-life examples of Normal\n",
    "Distribution."
   ]
  },
  {
   "cell_type": "markdown",
   "id": "7f58bb1b-bae4-41b4-b9c6-0f058eab6cbd",
   "metadata": {},
   "source": [
    "`Ans:-`"
   ]
  },
  {
   "cell_type": "code",
   "execution_count": null,
   "id": "efa4c788-5647-4733-953d-6a98c87aaab6",
   "metadata": {},
   "outputs": [],
   "source": [
    "The normal distribution is of paramount importance in various fields of statistics, data analysis, and modeling due to its numerous\n",
    "desirable properties and its ability to approximate many real-world phenomena. Some of the key reasons for the importance of the\n",
    "normal distribution are:\n",
    "\n",
    "(i) Central Limit Theorem:\n",
    "    \n",
    "    The normal distribution is closely linked to the Central Limit Theorem (CLT), which states that the sampling distribution of the\n",
    "    sample mean of a large number of independent, identically distributed random variables will be approximately normally distributed\n",
    "    , regardless of the original population's distribution. This makes the normal distribution a fundamental concept in inferential \n",
    "    statistics, allowing us to make inferences about population parameters from sample data.\n",
    "\n",
    "(ii) Data Modeling: \n",
    "    \n",
    "    Many natural and social phenomena follow a normal distribution. While not all data conforms precisely to the normal distribution, \n",
    "    many real-life datasets exhibit a bell-shaped pattern, and the normal distribution can serve as a useful approximation.\n",
    "\n",
    "(iii) Statistical Inference:\n",
    "    \n",
    "    The normal distribution's known properties and well-established statistical techniques make it convenient for hypothesis testing,\n",
    "    calculating confidence intervals, and making predictions in various scenarios.\n",
    "    \n",
    "\n",
    "(iv) Standardization and Z-scores:\n",
    "    \n",
    "    The normal distribution facilitates the process of standardization using Z-scores, where individual data points can be converted\n",
    "    into standardized units, making it easier to compare and interpret values.\n",
    "    \n",
    "\n",
    "(v) Probabilistic Calculations:\n",
    "    The normal distribution allows straightforward probability calculations for specific events or ranges of values, making it a\n",
    "    valuable tool in probability theory.\n",
    "    \n",
    "\n",
    "Real-Life Examples of Normal Distribution:\n",
    "    \n",
    "\n",
    "    Height of People:\n",
    "        \n",
    "        Human heights tend to follow a normal distribution. In most populations, the majority of people are close to the average\n",
    "        height, with fewer individuals being significantly shorter or taller.\n",
    "\n",
    "    Exam Scores: \n",
    "        \n",
    "        In educational settings, when a large number of students take an exam, their scores often approximate a normal distribution.\n",
    "        The bulk of scores tend to cluster around the average score, with fewer students achieving very low or very high scores.\n",
    "\n",
    "    Errors in Measurements:\n",
    "        \n",
    "        Measurement errors and uncertainties in scientific experiments often follow a normal distribution. This assumption is used\n",
    "        in various statistical methods to account for measurement variability.\n",
    "\n",
    "    IQ Scores: \n",
    "        \n",
    "        Intelligence Quotient (IQ) scores are often standardized to follow a normal distribution with a mean of 100 and a standard\n",
    "        deviation of 15. This allows easy comparison and interpretation of an individual's IQ relative to the general population.\n",
    "\n",
    "    Income Distribution:\n",
    "        \n",
    "        In many countries, the distribution of income for a large population can be roughly approximated by a normal distribution,\n",
    "        with a majority of individuals having moderate incomes and a few having very high or very low incomes.\n",
    "\n",
    "    Body Weight of Newborns:\n",
    "        \n",
    "        The birth weights of babies are often distributed approximately normally, with most babies having average birth weights and\n",
    "        fewer babies having extremely low or high birth weights.\n",
    "\n",
    "    Measurement of Physical Characteristics:\n",
    "        \n",
    "        Physical measurements such as weight, blood pressure, and body temperature in a healthy population often follow a normal\n",
    "        distribution.\n",
    "        \n",
    "        "
   ]
  },
  {
   "cell_type": "code",
   "execution_count": null,
   "id": "3a21eb88-c54e-41ae-b87f-f5ff3d303e77",
   "metadata": {},
   "outputs": [],
   "source": []
  },
  {
   "cell_type": "markdown",
   "id": "39e91aa9-344a-4fc3-9679-8a6570241488",
   "metadata": {},
   "source": [
    "Q5: What is Bernaulli Distribution? Give an Example. What is the difference between Bernoulli\n",
    "Distribution and Binomial Distribution?\n"
   ]
  },
  {
   "cell_type": "code",
   "execution_count": null,
   "id": "81abe811-e94e-49cb-8b3f-7ea96234bc57",
   "metadata": {},
   "outputs": [],
   "source": [
    "The Bernoulli distribution is a discrete probability distribution that represents a random variable that can take only two possible\n",
    "outcomes: success or failure, often denoted as 1 for success and 0 for failure. \n",
    "\n",
    "Example:\n",
    "    \n",
    "    Probability of getting head in a fair coin.Obviously we will get True or False i.e 1 or 0\n",
    "    \n",
    "    \n",
    "Difference between Bernoulli Distribution and Binomial Distribution:\n",
    "\n",
    "1.Number of Trials:\n",
    "\n",
    "    Bernoulli Distribution:\n",
    "        \n",
    "        The Bernoulli distribution represents a single trial or a single event with two possible outcomes (success or failure).\n",
    "\n",
    "    Binomial Distribution:\n",
    "            \n",
    "        The binomial distribution represents the number of successes in a fixed number of independent Bernoulli trials. It\n",
    "        deals with a sequence of multiple, identical, and independent trials, each having two outcomes (success or failure).\n",
    "            \n",
    "            \n",
    "2.Parameters:\n",
    "\n",
    "    Bernoulli Distribution: \n",
    "        \n",
    "        The Bernoulli distribution has a single parameter, p, which is the probability of success in a single trial.\n",
    "        \n",
    "        \n",
    "    Binomial Distribution:\n",
    "        \n",
    "        The binomial distribution has two parameters, n and p, where n is the number of trials (or experiments) and p is the \n",
    "        probability of success in a single trial.\n",
    "        \n",
    "        \n",
    "3.Probability Mass Function (PMF):\n",
    "    \n",
    "\n",
    "    Bernoulli Distribution: \n",
    "        \n",
    "        The PMF of the Bernoulli distribution is given by P(X = x) = p^x * (1 - p)^(1 - x), where x can take the values 0 or 1.\n",
    "        \n",
    "        \n",
    "    Binomial Distribution: \n",
    "        \n",
    "        The PMF of the binomial distribution is given by P(X = k) = C(n, k) * p^k * (1 - p)^(n - k), where X is the random variable \n",
    "        representing the number of successes (k) in n trials, C(n, k) is the binomial coefficient, and p is the probability of success\n",
    "        in a single trial.    \n",
    "        \n"
   ]
  },
  {
   "cell_type": "code",
   "execution_count": null,
   "id": "de1db409-c12e-4c15-b325-dd1ee3c73be9",
   "metadata": {},
   "outputs": [],
   "source": []
  },
  {
   "cell_type": "markdown",
   "id": "90346e29-e66b-4696-b104-afcd251ff370",
   "metadata": {},
   "source": [
    "Q6: Consider a dataset with a mean of 50 and a standard deviation of 10. If we assume that the dataset\n",
    "is normally distributed, what is the probability that a randomly selected observation will be greater\n",
    "than 60? Use the appropriate formula and show your calculations.\n"
   ]
  },
  {
   "cell_type": "markdown",
   "id": "fc6fbb6a-2cce-4067-8574-c86405d82977",
   "metadata": {},
   "source": [
    "`Ans:-`"
   ]
  },
  {
   "cell_type": "code",
   "execution_count": 2,
   "id": "44912e3c-ddea-4d9c-9ffb-6f073bf0b16c",
   "metadata": {},
   "outputs": [
    {
     "name": "stdout",
     "output_type": "stream",
     "text": [
      "Probability that a randomly selected observation will be greater than 60:- 0.15865525393145707\n"
     ]
    }
   ],
   "source": [
    "from scipy.stats import norm\n",
    "\n",
    "mean = 50\n",
    "std_dev = 10\n",
    "value = 60\n",
    "\n",
    "# Calculate the Z-score\n",
    "z_score = (value - mean) / std_dev\n",
    "\n",
    "# Calculate the probability using the survival function (1 - CDF)\n",
    "probability = 1 - norm.cdf(z_score)\n",
    "\n",
    "print(\"Probability that a randomly selected observation will be greater than 60:-\", probability)\n"
   ]
  },
  {
   "cell_type": "code",
   "execution_count": null,
   "id": "de509154-1e0e-46b5-be73-a46fb7e58d10",
   "metadata": {},
   "outputs": [],
   "source": []
  },
  {
   "cell_type": "markdown",
   "id": "b515d849-ab3e-491a-8552-01604d0920be",
   "metadata": {},
   "source": [
    "Q7: Explain uniform Distribution with an example.\n"
   ]
  },
  {
   "cell_type": "markdown",
   "id": "66adec0d-8fa0-4c7b-b609-75cac201f1be",
   "metadata": {},
   "source": [
    "`Ans:-`"
   ]
  },
  {
   "cell_type": "code",
   "execution_count": null,
   "id": "108d74e8-86fc-4425-965c-a09b5b3619de",
   "metadata": {},
   "outputs": [],
   "source": [
    "\n",
    "\n",
    "The uniform distribution is a continuous probability distribution that models random variables where all outcomes within a certain \n",
    "range are equally likely. In other words, it is a flat distribution where every value in the specified range has the same probability\n",
    "of occurring.\n",
    "\n",
    "Example:\n",
    "    \n",
    "    Let's consider an example of rolling a fair six-sided die. The possible outcomes are integers from 1 to 6, and each outcome has\n",
    "    an equal probability of 1/6. In this case, the random variable representing the outcome of a single roll of the die follows a\n",
    "    discrete uniform distribution.\n",
    "    \n",
    "    "
   ]
  },
  {
   "cell_type": "code",
   "execution_count": null,
   "id": "4a442ca4-0c74-42e1-874b-2eb1c5d61148",
   "metadata": {},
   "outputs": [],
   "source": []
  },
  {
   "cell_type": "markdown",
   "id": "6508cc66-52d6-4b4b-b1b0-c9bcafe2a530",
   "metadata": {},
   "source": [
    "Q8:What is the z score? State the importance of the z score.\n"
   ]
  },
  {
   "cell_type": "markdown",
   "id": "12da4ff3-7566-4eef-aecb-39da0c78652a",
   "metadata": {},
   "source": [
    "`Ans:-`"
   ]
  },
  {
   "cell_type": "code",
   "execution_count": null,
   "id": "21490a5a-4b2a-4fd8-8b04-9a12ee86370c",
   "metadata": {},
   "outputs": [],
   "source": [
    "\n",
    "The z-score, also known as the standard score or standardized value, is a statistical measure that quantifies how many standard \n",
    "deviations a data point is from the mean of a dataset. It allows us to standardize data, making it comparable and interpretable \n",
    "across different scales and distributions. \n",
    "\n",
    "Importance of the Z-score:\n",
    "\n",
    "1.Standardization and Comparison:\n",
    "    \n",
    "    Z-scores standardize data, allowing comparisons between different datasets that have different scales and distributions.\n",
    "    It helps us understand how far each data point is from the mean in terms of standard deviations.\n",
    "\n",
    "2.Outlier Detection: \n",
    "    \n",
    "    Z-scores are used to identify outliers in a dataset. Data points with extreme z-scores (either very large positive or very large\n",
    "    negative values) are considered outliers and might be worth investigating further.\n",
    "    \n",
    "\n",
    "3.Normalization in Machine Learning:\n",
    "    \n",
    "    In machine learning algorithms, especially those that involve distance calculations or gradient-based optimization, it is \n",
    "    common to normalize or standardize features using z-scores to improve the model's performance.\n",
    "    \n",
    "\n",
    "4.Assessing Probability and Percentiles:\n",
    "    \n",
    "    Z-scores are used to find percentiles and probabilities associated with specific values in a standard normal distribution. \n",
    "    This is particularly useful in hypothesis testing and constructing confidence intervals.\n",
    "\n",
    "5.Quality Control: \n",
    "    \n",
    "    Z-scores are used in quality control processes to monitor variations in production processes. They help identify when a data\n",
    "    point deviates significantly from the expected mean, indicating potential issues in the manufacturing process.\n",
    "\n",
    "6.Grade Interpretation:\n",
    "    \n",
    "    In educational settings, z-scores are used to interpret exam grades by standardizing them based on the class average and standard\n",
    "    deviation.\n",
    "    \n",
    "    \n"
   ]
  },
  {
   "cell_type": "code",
   "execution_count": null,
   "id": "1f77df12-09c3-4af4-9b42-10553e2d8995",
   "metadata": {},
   "outputs": [],
   "source": []
  },
  {
   "cell_type": "markdown",
   "id": "95044d41-afb4-403f-9252-e1d443a01668",
   "metadata": {},
   "source": [
    "Q9:What is Central Limit Theorem? State the significance of the Central Limit Theorem.\n"
   ]
  },
  {
   "cell_type": "markdown",
   "id": "b60033bf-1e0c-483d-915c-12f44586fdc3",
   "metadata": {},
   "source": [
    "`Ans:-`"
   ]
  },
  {
   "cell_type": "code",
   "execution_count": null,
   "id": "42eade2e-6896-4c3d-be4c-aa736a3bf0e4",
   "metadata": {},
   "outputs": [],
   "source": [
    "The Central Limit Theorem (CLT) is a fundamental concept in statistics that describes the behavior of the sample mean of a large\n",
    "number of independent and identically distributed random variables. It states that regardless of the underlying population \n",
    "distribution, the distribution of the sample mean will become approximately normally distributed as the sample size increases.\n",
    "In other words, when we take a large number of samples from a population and calculate the means of those samples, the distribution \n",
    "of those sample means will be bell-shaped and follow a normal distribution.\n",
    "\n",
    "The significance of the Central Limit Theorem is as follows:\n",
    "\n",
    "(i).Sampling Distribution of the Sample Mean:\n",
    "    \n",
    "    The CLT tells us that as the sample size increases, the sampling distribution of the sample mean approaches a normal distribution,\n",
    "    regardless of the shape of the original population distribution. This is true even if the population distribution is not normal.\n",
    "\n",
    "(ii)Population Parameter Estimation: \n",
    "    \n",
    "    The CLT enables us to estimate population parameters, such as the population mean, with greater accuracy. By calculating the sample \n",
    "    mean and using the normal distribution properties, we can construct confidence intervals around the sample mean to estimate the \n",
    "    population mean with a specified level of confidence.\n",
    "\n",
    "(iii)Hypothesis Testing: \n",
    "    \n",
    "    The CLT is the basis for many hypothesis tests that assume a normal distribution for the sample mean. When the sample size is\n",
    "    sufficiently large, we can use z-tests or t-tests, which rely on the properties of the normal distribution, to make statistical \n",
    "    inferences about population parameters.\n",
    "\n",
    "(iv)Practical Application: \n",
    "    \n",
    "    The CLT is widely used in various fields, including quality control, economics, social sciences, and medical research. It allows\n",
    "    researchers and analysts to make valid statistical inferences even when the underlying population distribution is unknown or not\n",
    "    normally distributed.\n",
    "\n",
    "(v)Data Approximation:\n",
    "    \n",
    "    When working with small sample sizes, the CLT can be helpful in approximating the distribution of the sample mean as normal, \n",
    "    making it easier to perform statistical analyses and draw conclusions.\n",
    "    "
   ]
  },
  {
   "cell_type": "code",
   "execution_count": null,
   "id": "b26ae74d-a20b-41f2-a175-e8e87c554307",
   "metadata": {},
   "outputs": [],
   "source": []
  },
  {
   "cell_type": "markdown",
   "id": "e2fe8f9d-72a9-4c7d-b114-e86f9c85796c",
   "metadata": {},
   "source": [
    "Q10: State the assumptions of the Central Limit Theorem."
   ]
  },
  {
   "cell_type": "markdown",
   "id": "0991ca55-a754-4e72-aa66-9cf8752b28b7",
   "metadata": {},
   "source": [
    "`Ans:-`"
   ]
  },
  {
   "cell_type": "code",
   "execution_count": null,
   "id": "a2d332ee-a41f-428d-a6f5-f16ce009a61f",
   "metadata": {},
   "outputs": [],
   "source": [
    "The key assumptions of the Central Limit Theorem are as follows:\n",
    "    \n",
    "\n",
    "1.Independence: \n",
    "    \n",
    "    The individual observations in the sample must be independent of each other. In other words, the value of one observation should\n",
    "    not be influenced by or dependent on the values of other observations in the sample.\n",
    "\n",
    "2.Identically Distributed: \n",
    "    \n",
    "    The sample observations should be drawn from the same underlying population and follow the same probability distribution. This \n",
    "    means that the mean and variance of the population should be finite.\n",
    "\n",
    "3.Random Sampling:\n",
    "    \n",
    "    The samples should be selected randomly from the population, without any bias or systematic preference. Random sampling ensures\n",
    "    that the sample is representative of the population and helps to reduce potential sampling errors.\n",
    "\n",
    "4.Finite Variance: \n",
    "    \n",
    "    The population from which the samples are drawn must have a finite variance (i.e., the variance of the population is not infinite).\n",
    "    While the population can have any shape of distribution, the existence of a finite variance is crucial for the CLT to hold.\n",
    "\n",
    "5.Sample Size: \n",
    "    \n",
    "    The sample size should be sufficiently large. There is no strict rule for what constitutes a \"sufficiently large\" sample size,\n",
    "    but as a general guideline, a sample size of 30 or more is often considered large enough for the CLT to be applicable.\n",
    "    "
   ]
  }
 ],
 "metadata": {
  "kernelspec": {
   "display_name": "Python 3 (ipykernel)",
   "language": "python",
   "name": "python3"
  },
  "language_info": {
   "codemirror_mode": {
    "name": "ipython",
    "version": 3
   },
   "file_extension": ".py",
   "mimetype": "text/x-python",
   "name": "python",
   "nbconvert_exporter": "python",
   "pygments_lexer": "ipython3",
   "version": "3.10.8"
  }
 },
 "nbformat": 4,
 "nbformat_minor": 5
}
